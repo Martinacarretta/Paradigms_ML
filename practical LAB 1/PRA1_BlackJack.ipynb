{
 "cells": [
  {
   "cell_type": "markdown",
   "id": "b6899a31-5c75-4956-b87f-d39bb7ae42de",
   "metadata": {},
   "source": [
    "# Practical Activity 1 (**PRA1**)\n",
    "\n",
    "## Evaluable Practical Exercise\n",
    "\n",
    "<u>General considerations</u>:\n",
    "\n",
    "- The proposed solution cannot use methods, functions or parameters declared **_deprecated_** in future versions.\n",
    "- This activity must be carried out on a **strictly individual** basis. Any indication of copying will be penalized with a failure for all parties involved and the possible negative evaluation of the subject in its entirety.\n",
    "- It is necessary for the student to indicate **all the sources** that she/he has used to carry out the PRA. If not, the student will be considered to have committed plagiarism, being penalized with a failure and the possible negative evaluation of the subject in its entirety.\n",
    "\n",
    "<u>Delivery format</u>:\n",
    "\n",
    "- Some exercises may require several minutes of execution, so the delivery must be done in **Notebook format** and in **HTML format**, where the code, results and comments of each exercise can be seen. You can export the notebook to HTML from the menu File $\\to$ Download as $\\to$ HTML.\n",
    "- There is a special type of cell to hold text. This type of cell will be very useful to answer the different theoretical questions posed throughout the activity. To change the cell type to this type, in the menu: Cell $\\to$ Cell Type $\\to$ Markdown."
   ]
  },
  {
   "cell_type": "markdown",
   "id": "93e1d0b9-51a4-4e3c-9bd8-0a8fd47d5a0f",
   "metadata": {},
   "source": [
    "<div class=\"alert alert-block alert-info\">\n",
    "<strong>Name and surname: Martina Carretta</strong>\n",
    "</div>"
   ]
  },
  {
   "cell_type": "markdown",
   "id": "2c9f1545-5222-41a9-9a84-f7ed1d93cf4b",
   "metadata": {},
   "source": [
    "## Introduction\n",
    "\n",
    "Blackjack environment is part of the Gymnasium's [Toy Text](https://gymnasium.farama.org/environments/toy_text/) environments. Blackjack is a card game where the goal is to beat the dealer by obtaining cards that sum to closer to 21 (without going over 21) than the dealer's cards.\n",
    "\n",
    "The game starts with the dealer having one face up and one face down card, while the player has two face up cards. All cards are drawn from an infinite deck (i.e. with replacement).\n",
    "\n",
    "The card values are, as depicted in the following figure:\n",
    "- Face cards (Jack, Queen, King) have a point value of **10**.\n",
    "- Aces can either count as **11** (called a ``usable ace'') or **1**.\n",
    "- Numerical cards (**2-9**) have a value equal to their number.\n",
    "\n",
    "<img src=\"./figs/BlackJackCards.png\" />\n",
    "\n",
    "The player has the sum of cards held. The player can request additional cards (**hit**) until they decide to stop (**stick**) or exceed 21 (**bust**, immediate loss).\n",
    "\n",
    "After the player sticks, the dealer reveals their face down card, and draws cards until their sum is 17 or greater. If the dealer goes bust, the player wins.\n",
    "\n",
    "If neither the player nor the dealer busts, the outcome (win, lose, draw) is decided by whose sum is closer to 21.\n",
    "\n",
    "Further information could be found at:\n",
    "- Gymnasium [Blackjack](https://gymnasium.farama.org/environments/toy_text/blackjack/)\n",
    "\n",
    "In order to initialize the environment, we will use `natural=True` to give an additional reward for starting with a natural blackjack, i.e. starting with an ace and ten (sum is 21), as depicted in the following piece of code:"
   ]
  },
  {
   "cell_type": "code",
   "execution_count": 28,
   "id": "acf8ef26-79d7-4600-abb4-bd82cf12f8fb",
   "metadata": {
    "tags": []
   },
   "outputs": [],
   "source": [
    "import gymnasium as gym\n",
    "\n",
    "env = gym.make('Blackjack-v1', natural=True, sab=False)"
   ]
  },
  {
   "cell_type": "code",
   "execution_count": 29,
   "id": "a6d932fb-fbf0-4d42-a50d-f6887211e1e3",
   "metadata": {
    "tags": []
   },
   "outputs": [
    {
     "name": "stdout",
     "output_type": "stream",
     "text": [
      "Action space is Discrete(2) \n",
      "Observation space is Tuple(Discrete(32), Discrete(11), Discrete(2)) \n",
      "Reward range is (-inf, inf) \n",
      "hi\n"
     ]
    }
   ],
   "source": [
    "print(\"Action space is {} \".format(env.action_space))\n",
    "print(\"Observation space is {} \".format(env.observation_space))\n",
    "print(\"Reward range is {} \".format(env.reward_range))\n",
    "print(\"hi\")"
   ]
  },
  {
   "cell_type": "markdown",
   "id": "0b77be78-4195-4282-81d2-3ccb63dd9e87",
   "metadata": {},
   "source": [
    "## Part 1. Naïve Policy\n",
    "\n",
    "Implement an agent that carries out the following deterministic policy: \n",
    "- The agent will **stick** if it gets a score of 20 or 21.\n",
    "- Otherwise, it will **hit**.\n",
    "\n",
    "<u>Questions</u> (**1 point**): \n",
    "1. Using this agent, simulate 100,000 games and calculate the agent's return (total accumulated reward).\n",
    "2. Additionally, calculate the % of wins, natural wins, losses and draws. \n",
    "3. Comment on the results."
   ]
  },
  {
   "cell_type": "code",
   "execution_count": 30,
   "id": "5fd6ab02",
   "metadata": {},
   "outputs": [],
   "source": [
    "import collections\n",
    "\n",
    "class Agent:\n",
    "    def __init__(self, env):\n",
    "        self.env = env\n",
    "        self.state = self.env.reset()[0]\n",
    "        self.rewards = collections.defaultdict(float)\n",
    "        self.transits = collections.defaultdict(collections.Counter)\n",
    "        self.values = collections.defaultdict(float)\n",
    "\n",
    "\n",
    "    def select_action(self, state) -> int:\n",
    "        score = self.calculate_score(state)\n",
    "        if score == 20 or score == 21:\n",
    "            return 0\n",
    "        else:\n",
    "            return 1\n",
    "        \n",
    "\n",
    "    def calculate_score(self, state) -> int:\n",
    "        player_sum, dealer_card, usable_ace = state\n",
    "        return player_sum\n",
    "\n",
    "\n",
    "    def play_episode(self, env) -> float:\n",
    "        total_reward = 0.0\n",
    "        state, _ = env.reset()\n",
    "\n",
    "        while True:\n",
    "            action = self.select_action(state)\n",
    "            new_state, reward, terminated, truncated, _ = env.step(action)\n",
    "            is_done = terminated or truncated\n",
    "            if is_done:\n",
    "                total_reward = reward # only compute once since the reward is only given at the end -1, 0, or 1\n",
    "                break\n",
    "            state = new_state\n",
    "        return total_reward\n",
    "    \n",
    "agent = Agent(env)\n"
   ]
  },
  {
   "cell_type": "code",
   "execution_count": 31,
   "id": "ce4657c8",
   "metadata": {},
   "outputs": [
    {
     "name": "stdout",
     "output_type": "stream",
     "text": [
      "Total accumulated reward: -32649.0\n"
     ]
    }
   ],
   "source": [
    "num_games = 100000\n",
    "\n",
    "total_reward = 0.0\n",
    "\n",
    "for _ in range(num_games):\n",
    "    total_reward += agent.play_episode(env)\n",
    "\n",
    "print(f\"Total accumulated reward: {total_reward}\")"
   ]
  },
  {
   "cell_type": "code",
   "execution_count": 32,
   "id": "eefad798",
   "metadata": {},
   "outputs": [
    {
     "name": "stdout",
     "output_type": "stream",
     "text": [
      "Win percentage: 29.337999999999997%\n",
      "Natural win percentage: 5.323%\n",
      "Loss percentage: 64.831%\n",
      "Draw percentage: 5.831%\n"
     ]
    }
   ],
   "source": [
    "# Calculate statistics\n",
    "num_games = 100000\n",
    "wins = 0\n",
    "natural_wins = 0\n",
    "losses = 0\n",
    "draws = 0\n",
    "\n",
    "for _ in range(num_games):\n",
    "    state, _ = agent.env.reset()\n",
    "    episode_reward = 0.0\n",
    "    while True:\n",
    "        action = agent.select_action(state)\n",
    "        new_state, reward, terminated, truncated, _ = agent.env.step(action)\n",
    "        is_done = terminated or truncated\n",
    "        episode_reward += reward\n",
    "        if is_done:\n",
    "            if reward == 1.0 or reward == 1.5: # Normal and natural wins\n",
    "                wins += 1\n",
    "                if state[0] == 21 and state[2]:  # Natural win is a counted both as a win and a natural win\n",
    "                    natural_wins += 1\n",
    "            elif reward == -1.0:\n",
    "                losses += 1\n",
    "            else:\n",
    "                draws += 1\n",
    "            break\n",
    "        state = new_state\n",
    "\n",
    "win_percentage = (wins / num_games) * 100\n",
    "natural_win_percentage = (natural_wins / num_games) * 100\n",
    "loss_percentage = (losses / num_games) * 100\n",
    "draw_percentage = (draws / num_games) * 100\n",
    "\n",
    "print(f\"Win percentage: {win_percentage}%\")\n",
    "print(f\"Natural win percentage: {natural_win_percentage}%\")\n",
    "print(f\"Loss percentage: {loss_percentage}%\")\n",
    "print(f\"Draw percentage: {draw_percentage}%\")"
   ]
  },
  {
   "cell_type": "markdown",
   "id": "e610e5af",
   "metadata": {},
   "source": [
    "<span style=\"color: lightblue;\">\n",
    "\n",
    "Answer: For the moment it has a low win rate, an even lower draw rate and most of the games are losses. there are only 5000 out of 100000 games were won with a natural win (meaning that the ace was used as an 11 value card). this is quite normal taking into account that it means the player has been handed an Ace (only 4 in the whole car deck making it a 0'07%) and a 10, Jack, Queen, or King (16). Being handed a card with a value of 10 has about a 30% porbability. This means that being handed an ace AND a 10-value card is quite improbable, so it's normal to have only a few natural wins\n",
    "</span>"
   ]
  },
  {
   "cell_type": "markdown",
   "id": "ff8b30e3-dd3d-4fcd-a6e4-baaf764d8f88",
   "metadata": {},
   "source": [
    "## Part 2. Monte Carlo method\n",
    "\n",
    "The objective of this section is to estimate the optimal policy using Monte Carlo methods. Specifically, you can choose and implement one of the algorithms related to _Control using MC methods_ (with ''exploring starts'' or without ''exploring starts'', both on-policy or off-policy).\n",
    "\n",
    "<u>Questions</u> (**2.5 points**): \n",
    "1. Implement the selected algorithm and justify your choice.\n",
    "2. Comment and justify all the parameters, such as:\n",
    "- Number of episodes\n",
    "- Discount factor\n",
    "- Etc.\n",
    "3. Implement a function that prints on the screen the optimal policy found for each state (similar to the figure in Section 3.1).\n",
    "4. Using the trained agent, simulate 100,000 games and calculate the agent's return (total accumulated reward).\n",
    "5. Additionally, calculate the % of wins, natural wins, losses and draws."
   ]
  },
  {
   "cell_type": "markdown",
   "id": "1c16a205",
   "metadata": {},
   "source": [
    "<span style=\"color: lightblue;\">\n",
    "\n",
    "Answer: Exploring starts means that every possible state-action pair has a chance of being explored at least one. In Blackjack, it's not realistic to start with any pair of state-action. For example, it would be unrealistic to start the game with a pair of hards with sum value 20. \n",
    "\n",
    "MonteCarlo off-policy (whihc means that there are two policies, one to generate the episode and one that will be optimized) has a higher variance and the advantage it has is that it can add external knowledge. However, for the BlackJack game, it is not necessary since it will learn throught the policy creation phase what is a good action in each state\n",
    "\n",
    "</span>"
   ]
  },
  {
   "cell_type": "code",
   "execution_count": 33,
   "id": "32a6904e-2cd2-4f95-b2ce-4fb8a9dd7b38",
   "metadata": {},
   "outputs": [],
   "source": [
    "import numpy as np\n",
    "from collections import defaultdict\n",
    "import sys\n",
    "\n",
    "def make_epsilon_greedy_policy(Q, epsilon, num_Actions):\n",
    "    def policy_fn(observation):\n",
    "        A = np.ones(num_Actions, dtype=float) * epsilon / num_Actions #array with number of actions. Equation from the notes\n",
    "        best_action = np.argmax(Q[observation]) \n",
    "        A[best_action] += (1.0 - epsilon)\n",
    "\n",
    "        return A\n",
    "    return policy_fn\n",
    "\n",
    "def mc_control_on_policy_epsilon_greedy(env, num_episodes, discount=1.0, epsilon=0.1, epsilon_decay = 0.999):\n",
    "\n",
    "    # We store the sum and number of returns for each state to calculate the average. \n",
    "    # We could use an array to store all the returns, but it is inefficient in terms of memory.\n",
    "    returns_sum = defaultdict(float)\n",
    "    returns_count = defaultdict(float)\n",
    "    \n",
    "    # The Q action value function.\n",
    "    # A nested dictionary whose correspondence is state -> (action -> action-value).\n",
    "    # Initially we initialize it to zero\n",
    "    Q = defaultdict(lambda: np.zeros(env.action_space.n))\n",
    "    \n",
    "    for i_episode in range(1, num_episodes + 1):\n",
    "        # The policy we are following\n",
    "        policy = make_epsilon_greedy_policy(Q, epsilon, env.action_space.n)\n",
    "        \n",
    "        # We print which episode we are in, useful for debugging.\n",
    "        if i_episode % 100 == 0:\n",
    "            print(\"\\rEpisode {}/{}\".format(i_episode, num_episodes), end=\"\")\n",
    "            sys.stdout.flush()\n",
    "\n",
    "        # We generate an episode and store it\n",
    "        # An episode is an array of tuples (state, action, reward)\n",
    "        episode = []\n",
    "        state, _ = env.reset()\n",
    "        done = False\n",
    "        while not done:\n",
    "            probs = policy(state)\n",
    "            action = np.random.choice(np.arange(len(probs)), p=probs) # choose one accoridng to the probability distribution\n",
    "            next_state, reward, done, _, _ = env.step(action)\n",
    "            episode.append((state, action, reward)) # add tuple with state, action and reward. we concatenate all timesteps until the end. \n",
    "            if done:\n",
    "                break\n",
    "            state = next_state\n",
    "        \n",
    "        G = 0\n",
    "        # for each time step\n",
    "        for state, action, reward in episode[::-1]:\n",
    "            sa_pair = (state, action)\n",
    "            \n",
    "            # We add up all the rewards since the first appearance\n",
    "            G = reward + discount * G\n",
    "            \n",
    "            # We calculate the average return for this state over all sampled episodes\n",
    "            returns_sum[sa_pair] += G\n",
    "            returns_count[sa_pair] += 1.0\n",
    "            Q[state][action] = returns_sum[sa_pair] / returns_count[sa_pair]\n",
    "        \n",
    "        # The policy is implicitly improved by changing the values of Q\n",
    "        epsilon = max(epsilon_decay*epsilon, 0.01)\n",
    "\n",
    "    \n",
    "    return Q, policy"
   ]
  },
  {
   "cell_type": "code",
   "execution_count": 34,
   "id": "94ce1606",
   "metadata": {},
   "outputs": [
    {
     "name": "stdout",
     "output_type": "stream",
     "text": [
      "Episode 100/100000"
     ]
    },
    {
     "name": "stdout",
     "output_type": "stream",
     "text": [
      "Episode 100000/100000"
     ]
    }
   ],
   "source": [
    "Q, policy = mc_control_on_policy_epsilon_greedy(env, num_episodes=100000, discount=1, epsilon=1)"
   ]
  },
  {
   "cell_type": "code",
   "execution_count": 35,
   "id": "bb0eb08f",
   "metadata": {},
   "outputs": [
    {
     "data": {
      "text/html": [
       "<div>\n",
       "<style scoped>\n",
       "    .dataframe tbody tr th:only-of-type {\n",
       "        vertical-align: middle;\n",
       "    }\n",
       "\n",
       "    .dataframe tbody tr th {\n",
       "        vertical-align: top;\n",
       "    }\n",
       "\n",
       "    .dataframe thead th {\n",
       "        text-align: right;\n",
       "    }\n",
       "</style>\n",
       "<table border=\"1\" class=\"dataframe\">\n",
       "  <thead>\n",
       "    <tr style=\"text-align: right;\">\n",
       "      <th></th>\n",
       "      <th>State</th>\n",
       "      <th>Policy</th>\n",
       "    </tr>\n",
       "  </thead>\n",
       "  <tbody>\n",
       "    <tr>\n",
       "      <th>0</th>\n",
       "      <td>(7, 3, 0)</td>\n",
       "      <td>[0.995, 0.005]</td>\n",
       "    </tr>\n",
       "    <tr>\n",
       "      <th>1</th>\n",
       "      <td>(13, 4, 0)</td>\n",
       "      <td>[0.995, 0.005]</td>\n",
       "    </tr>\n",
       "    <tr>\n",
       "      <th>2</th>\n",
       "      <td>(14, 4, 0)</td>\n",
       "      <td>[0.995, 0.005]</td>\n",
       "    </tr>\n",
       "    <tr>\n",
       "      <th>3</th>\n",
       "      <td>(14, 10, 0)</td>\n",
       "      <td>[0.995, 0.005]</td>\n",
       "    </tr>\n",
       "    <tr>\n",
       "      <th>4</th>\n",
       "      <td>(12, 4, 0)</td>\n",
       "      <td>[0.995, 0.005]</td>\n",
       "    </tr>\n",
       "    <tr>\n",
       "      <th>5</th>\n",
       "      <td>(15, 4, 0)</td>\n",
       "      <td>[0.995, 0.005]</td>\n",
       "    </tr>\n",
       "    <tr>\n",
       "      <th>6</th>\n",
       "      <td>(18, 7, 1)</td>\n",
       "      <td>[0.995, 0.005]</td>\n",
       "    </tr>\n",
       "    <tr>\n",
       "      <th>7</th>\n",
       "      <td>(17, 10, 0)</td>\n",
       "      <td>[0.995, 0.005]</td>\n",
       "    </tr>\n",
       "    <tr>\n",
       "      <th>8</th>\n",
       "      <td>(9, 10, 0)</td>\n",
       "      <td>[0.005, 0.995]</td>\n",
       "    </tr>\n",
       "    <tr>\n",
       "      <th>9</th>\n",
       "      <td>(9, 6, 0)</td>\n",
       "      <td>[0.005, 0.995]</td>\n",
       "    </tr>\n",
       "  </tbody>\n",
       "</table>\n",
       "</div>"
      ],
      "text/plain": [
       "         State          Policy\n",
       "0    (7, 3, 0)  [0.995, 0.005]\n",
       "1   (13, 4, 0)  [0.995, 0.005]\n",
       "2   (14, 4, 0)  [0.995, 0.005]\n",
       "3  (14, 10, 0)  [0.995, 0.005]\n",
       "4   (12, 4, 0)  [0.995, 0.005]\n",
       "5   (15, 4, 0)  [0.995, 0.005]\n",
       "6   (18, 7, 1)  [0.995, 0.005]\n",
       "7  (17, 10, 0)  [0.995, 0.005]\n",
       "8   (9, 10, 0)  [0.005, 0.995]\n",
       "9    (9, 6, 0)  [0.005, 0.995]"
      ]
     },
     "execution_count": 35,
     "metadata": {},
     "output_type": "execute_result"
    }
   ],
   "source": [
    "import pandas as pd\n",
    "\n",
    "data = []\n",
    "for state in Q.keys():\n",
    "    action_probabilities = policy(state)\n",
    "    data.append({'State': state, 'Policy': action_probabilities})\n",
    "\n",
    "df = pd.DataFrame(data) # I put it in a dataframe to make it easier to display\n",
    "\n",
    "# Display only the first 10 rows\n",
    "df.head(10)\n"
   ]
  },
  {
   "cell_type": "code",
   "execution_count": 36,
   "id": "75350795",
   "metadata": {},
   "outputs": [
    {
     "data": {
      "image/png": "[encoded data removed]",
      "text/plain": [
       "<Figure size 1400x600 with 2 Axes>"
      ]
     },
     "metadata": {},
     "output_type": "display_data"
    }
   ],
   "source": [
    "import matplotlib.pyplot as plt\n",
    "import numpy as np\n",
    "\n",
    "def plot_policy(Q, policy):\n",
    "    # Separate lists for usable and non-usable ace cases\n",
    "    hit_player_sums_usable = []\n",
    "    hit_dealer_showings_usable = []\n",
    "    stick_player_sums_usable = []\n",
    "    stick_dealer_showings_usable = []\n",
    "\n",
    "    hit_player_sums_non_usable = []\n",
    "    hit_dealer_showings_non_usable = []\n",
    "    stick_player_sums_non_usable = []\n",
    "    stick_dealer_showings_non_usable = []\n",
    "\n",
    "    # Separate the states into hit and stick regions for usable and non-usable ace cases\n",
    "    for state, policy in Q.items():\n",
    "        player_sum, dealer_showing, usable_ace = state\n",
    "        if usable_ace:  # Usable ace case\n",
    "            if policy[0] > policy[1]:  # Stick if stick probability is higher\n",
    "                stick_player_sums_usable.append(player_sum)\n",
    "                stick_dealer_showings_usable.append(dealer_showing)\n",
    "            else:  # Hit if hit probability is higher\n",
    "                hit_player_sums_usable.append(player_sum)\n",
    "                hit_dealer_showings_usable.append(dealer_showing)\n",
    "        else:  # Non-usable ace case\n",
    "            if policy[0] > policy[1]:  # Stick if stick probability is higher\n",
    "                stick_player_sums_non_usable.append(player_sum)\n",
    "                stick_dealer_showings_non_usable.append(dealer_showing)\n",
    "            else:  # Hit if hit probability is higher\n",
    "                hit_player_sums_non_usable.append(player_sum)\n",
    "                hit_dealer_showings_non_usable.append(dealer_showing)\n",
    "\n",
    "    # Create two subplots: one for usable ace and one for non-usable ace\n",
    "    fig, axs = plt.subplots(1, 2, figsize=(14, 6))\n",
    "\n",
    "    # Plot for usable ace\n",
    "    axs[0].scatter(hit_dealer_showings_usable, hit_player_sums_usable, color='red', label='Hit', marker='o')\n",
    "    axs[0].scatter(stick_dealer_showings_usable, stick_player_sums_usable, color='blue', label='Stick', marker='x')\n",
    "    axs[0].set_title(\"Usable Ace Policy\")\n",
    "    axs[0].set_xlabel(\"Dealer's Showing\")\n",
    "    axs[0].set_ylabel(\"Player's Sum\")\n",
    "    axs[0].set_xticks(np.arange(1, 11))\n",
    "    axs[0].set_xticklabels(['A', '2', '3', '4', '5', '6', '7', '8', '9', '10'])  # Dealer cards\n",
    "    axs[0].set_yticks(np.arange(4, 22))  # Player sums from 4 to 21\n",
    "    axs[0].grid(True)\n",
    "    axs[0].legend()\n",
    "\n",
    "    # Plot for non-usable ace\n",
    "    axs[1].scatter(hit_dealer_showings_non_usable, hit_player_sums_non_usable, color='red', label='Hit', marker='o')\n",
    "    axs[1].scatter(stick_dealer_showings_non_usable, stick_player_sums_non_usable, color='blue', label='Stick', marker='x')\n",
    "    axs[1].set_title(\"Non-Usable Ace Policy\")\n",
    "    axs[1].set_xlabel(\"Dealer's Showing\")\n",
    "    axs[1].set_ylabel(\"Player's Sum\")\n",
    "    axs[1].set_xticks(np.arange(1, 11))\n",
    "    axs[1].set_xticklabels(['A', '2', '3', '4', '5', '6', '7', '8', '9', '10'])  # Dealer cards\n",
    "    axs[1].set_yticks(np.arange(4, 22))  # Player sums from 4 to 21\n",
    "    axs[1].grid(True)\n",
    "    axs[1].legend()\n",
    "\n",
    "    # Display the plot\n",
    "    plt.tight_layout()\n",
    "    plt.show()\n",
    "\n",
    "plot_policy(Q, policy)\n"
   ]
  },
  {
   "cell_type": "markdown",
   "id": "1faf10ce",
   "metadata": {},
   "source": [
    "<span style=\"color: lightblue;\">\n",
    "\n",
    "I have used chatGPT to help me construct the image to show the policy\n",
    "</span>"
   ]
  },
  {
   "cell_type": "code",
   "execution_count": 37,
   "id": "ee172877",
   "metadata": {},
   "outputs": [],
   "source": [
    "def run_episodes_and_get_stats (num_games, q, env, debug, discount, epsilon):\n",
    "    wins = 0\n",
    "    natural_wins = 0\n",
    "    losses = 0\n",
    "    draws = 0\n",
    "\n",
    "    for _ in range(num_games):\n",
    "        obs, _ = agent.env.reset()\n",
    "        if debug:\n",
    "            print(\"Obs initial: {}\".format(obs))\n",
    "\n",
    "        episode_reward = 0.0\n",
    "        while True:\n",
    "            # Choose an action following the optimal policy (no epsilon greedy)\n",
    "            arr = np.array(q[obs])\n",
    "            action = arr.argmax()\n",
    "\n",
    "            # execute the action and wait for the response from the environment\n",
    "            new_obs, reward, terminated, truncated, info = env.step(action)\n",
    "            if debug:\n",
    "                print(\"Action: {} -> Obs:{} and reward: {}\".format(action, new_obs, reward))\n",
    "\n",
    "            done = terminated or truncated\n",
    "\n",
    "            obs = new_obs\n",
    "            episode_reward += reward\n",
    "\n",
    "            if is_done:\n",
    "                if reward == 1.0 or reward == 1.5: # Normal and natural wins\n",
    "                    wins += 1\n",
    "                    if state[0] == 21 and state[2]:  # Natural win is a counted both as a win and a natural win\n",
    "                        natural_wins += 1\n",
    "                elif reward == -1.0:\n",
    "                    losses += 1\n",
    "                else:\n",
    "                    draws += 1\n",
    "                break\n",
    "\n",
    "    win_percentage = (wins / num_games) * 100\n",
    "    natural_win_percentage = (natural_wins / num_games) * 100\n",
    "    loss_percentage = (losses / num_games) * 100\n",
    "    draw_percentage = (draws / num_games) * 100\n",
    "\n",
    "    if num_games > 1: # For the trial i don't need the stats. I add this if so that it doesn't print and i know it's only for the trial and it's working. \n",
    "        print()\n",
    "        if epsilon:\n",
    "            print(f\"Number of games: {num_games}, discount: {discount}, epsilon: {epsilon}\")\n",
    "        else:\n",
    "            print(f\"Number of games: {num_games}, discount: {discount}\")\n",
    "            \n",
    "        print(f\"   Win percentage: {win_percentage}%\")\n",
    "        print(f\"   Natural win percentage: {natural_win_percentage}%\")\n",
    "        print(f\"   Loss percentage: {loss_percentage}%\")\n",
    "        print(f\"   Draw percentage: {draw_percentage}%\")"
   ]
  },
  {
   "cell_type": "code",
   "execution_count": 38,
   "id": "e2ba38fe",
   "metadata": {},
   "outputs": [
    {
     "name": "stdout",
     "output_type": "stream",
     "text": [
      "Obs initial: (21, 6, 1)\n",
      "Action: 0 -> Obs:(21, 6, 1) and reward: 1.5\n"
     ]
    }
   ],
   "source": [
    "# Trial:\n",
    "run_episodes_and_get_stats(num_games=1, q=Q, env=env, debug=True, discount=1, epsilon=1)"
   ]
  },
  {
   "cell_type": "code",
   "execution_count": 39,
   "id": "c12a5cef",
   "metadata": {},
   "outputs": [
    {
     "name": "stdout",
     "output_type": "stream",
     "text": [
      "\n",
      "Number of games: 100000, discount: 1, epsilon: 1\n",
      "   Win percentage: 27.616000000000003%\n",
      "   Natural win percentage: 0.0%\n",
      "   Loss percentage: 37.019999999999996%\n",
      "   Draw percentage: 35.364000000000004%\n",
      "Episode 100000/100000\n",
      "Number of games: 100000, discount: 1, epsilon: 0.9\n",
      "   Win percentage: 27.907%\n",
      "   Natural win percentage: 0.0%\n",
      "   Loss percentage: 36.625%\n",
      "   Draw percentage: 35.467999999999996%\n"
     ]
    }
   ],
   "source": [
    "run_episodes_and_get_stats (num_games=100000, q=Q, env=env, debug=False, discount=1, epsilon=1)\n",
    "\n",
    "# Change epsilon to 0.9\n",
    "Q, policy = mc_control_on_policy_epsilon_greedy(env, num_episodes=100000, discount=1, epsilon=0.9)\n",
    "run_episodes_and_get_stats (num_games=100000, q=Q, env=env, debug=False, discount=1, epsilon=0.9)"
   ]
  },
  {
   "cell_type": "markdown",
   "id": "91ec1525",
   "metadata": {},
   "source": [
    "<span style=\"color: lightblue;\">\n",
    "\n",
    "I'm going to try Monte Carlo with exploring starts\n",
    "</span>"
   ]
  },
  {
   "cell_type": "code",
   "execution_count": 40,
   "id": "d1810c50",
   "metadata": {},
   "outputs": [
    {
     "name": "stdout",
     "output_type": "stream",
     "text": [
      "Episode 200/100000"
     ]
    },
    {
     "name": "stdout",
     "output_type": "stream",
     "text": [
      "Episode 100000/100000"
     ]
    },
    {
     "data": {
      "image/png": "[encoded data removed]",
      "text/plain": [
       "<Figure size 1400x600 with 2 Axes>"
      ]
     },
     "metadata": {},
     "output_type": "display_data"
    }
   ],
   "source": [
    "def mc_control_exploring_starts(env, num_episodes, discount=1.0):\n",
    "\n",
    "    # We store the sum and number of returns for each state to calculate the average. \n",
    "    # We could use an array to store all the returns, but it is inefficient in terms of memory.\n",
    "    returns_sum = defaultdict(float)\n",
    "    returns_count = defaultdict(float)\n",
    "\n",
    "    # The Q action value function.\n",
    "    # A nested dictionary whose correspondence is state -> (action -> action-value).\n",
    "    # Initially we initialize it to zero\n",
    "    Q = defaultdict(lambda: np.zeros(env.action_space.n))\n",
    "    \n",
    "    for i_episode in range(1, num_episodes + 1):\n",
    "        # We print which episode we are in, useful for debugging.\n",
    "        if i_episode % 100 == 0:\n",
    "            print(\"\\rEpisode {}/{}\".format(i_episode, num_episodes), end=\"\")\n",
    "            sys.stdout.flush()\n",
    "        \n",
    "        # Generate an episode\n",
    "        episode = []\n",
    "        state, _ = env.reset()\n",
    "        done = False\n",
    "        action = np.random.choice(np.arange(env.action_space.n)) # Start with random aaction\n",
    "\n",
    "        while not done:\n",
    "            next_state, reward, done, _, _ = env.step(action)\n",
    "            episode.append((state, action, reward))\n",
    "            \n",
    "            if not done:\n",
    "                action = np.argmax(Q[next_state]) # Choose the best action according to the Q function computed with the policy\n",
    "            state = next_state\n",
    "        \n",
    "        G = 0\n",
    "        for state, action, reward in reversed(episode):\n",
    "            sa_pair = (state, action)\n",
    "\n",
    "            G = reward + discount * G\n",
    "\n",
    "            # Update the returns_sum and returns_count\n",
    "            returns_sum[sa_pair] += G\n",
    "            returns_count[sa_pair] += 1.0\n",
    "            Q[state][action] = returns_sum[sa_pair] / returns_count[sa_pair]\n",
    "\n",
    "    # The greedy policy is implicitly improved by using the updated Q values\n",
    "    def greedy_policy(state):\n",
    "        \"\"\"Returns the greedy action for a given state based on Q values.\"\"\"\n",
    "        return np.argmax(Q[state])\n",
    "    \n",
    "    return Q, greedy_policy\n",
    "\n",
    "Q, policy = mc_control_exploring_starts(env, 100000, discount=1.0)\n",
    "plot_policy(Q, policy)"
   ]
  },
  {
   "cell_type": "code",
   "execution_count": 41,
   "id": "09885551",
   "metadata": {},
   "outputs": [
    {
     "name": "stdout",
     "output_type": "stream",
     "text": [
      "\n",
      "Number of games: 100000, discount: 1\n",
      "   Win percentage: 24.14%\n",
      "   Natural win percentage: 0.0%\n",
      "   Loss percentage: 28.416999999999998%\n",
      "   Draw percentage: 47.443000000000005%\n"
     ]
    }
   ],
   "source": [
    "run_episodes_and_get_stats (num_games=100000, q=Q, env=env, debug=False, discount=1, epsilon=None)"
   ]
  },
  {
   "cell_type": "markdown",
   "id": "b1bb6acf-25c2-4f01-b2da-ca7b16435266",
   "metadata": {},
   "source": [
    "## Part 3. TD learning\n",
    "\n",
    "The objective of this section is to estimate the optimal policy using TD learning methods. Specifically, you have to implement the SARSA algorithm.\n",
    "\n",
    "<u>Questions</u> (**2.5 points**): \n",
    "1. Implement the algorithm.\n",
    "2. Comment and justify all the parameters.\n",
    "3. Print on the screen the optimal policy found for each state.\n",
    "4. Using the trained agent, simulate 100,000 games and calculate the agent's return (total accumulated reward).\n",
    "5. Additionally, calculate the % of wins, natural wins, losses and draws."
   ]
  },
  {
   "cell_type": "code",
   "execution_count": null,
   "id": "6aaa4fee-c8e8-4ffa-b8e9-5c75cde0aef1",
   "metadata": {},
   "outputs": [],
   "source": []
  },
  {
   "cell_type": "markdown",
   "id": "43c77db3-3fd1-4454-8079-e2eb44942758",
   "metadata": {},
   "source": [
    "## Part 4. Comparison of the algorithms\n",
    "\n",
    "In this section, we will make a comparison among the algorithms.\n",
    "\n",
    "We will compare the performance of the algorithms when changing the number of episodes, the discount factor and the *learning rate* values (in the case of the SARSA method).\n",
    "\n",
    "For each exercise, the results must be presented and justified.\n",
    "\n",
    "**Note**: \n",
    "- It is recommended to run the simulations multiple times for each exercise, as these are random, and to comment on the most frequent result or the average of these."
   ]
  },
  {
   "cell_type": "markdown",
   "id": "41b1e4c9-29a8-4552-a463-e4e6cf2b7e91",
   "metadata": {},
   "source": [
    "### 4.1. Comparison to the optimal policy\n",
    "\n",
    "The optimal policy for this problem, described by [Sutton & Barto](http://incompleteideas.net/book/the-book-2nd.html) is depicted in the following image:\n",
    "\n",
    "<img src=\"./figs/optimal.png\" style=\"width: 800px;\" />\n",
    "\n",
    "<u>Questions</u> (**1 point**): \n",
    "- Compare the _optimal_ policies of the naïve, Monte Carlo and SARSA methods to the optimal one provided by Sutton & Barto.\n",
    "- Comment on the results and justify your answer. "
   ]
  },
  {
   "cell_type": "code",
   "execution_count": null,
   "id": "6148630a-af42-4b8a-9754-088340fa65a2",
   "metadata": {},
   "outputs": [],
   "source": []
  },
  {
   "cell_type": "markdown",
   "id": "177e4a86-98bc-4feb-84b0-5cf85a27ca17",
   "metadata": {},
   "source": [
    "### 4.2. Influence of the Number of Episodes\n",
    "\n",
    "Conduct a study by varying the number of episodes in each of the algorithms.\n",
    "\n",
    "<u>Questions</u> (**1 point**): \n",
    "- Train each algorithm multiple times with 100,000, 1,000,000, and 5,000,000 episodes and average the results.\n",
    "- Indicate how the **number of episodes** influences the convergence of each algorithm by calculating the number of states where the policy differs from the optimal one, as well as the average return obtained after playing 100,000 games following each training."
   ]
  },
  {
   "cell_type": "code",
   "execution_count": null,
   "id": "2a296163-fdf1-4f83-837c-9c7e95946805",
   "metadata": {},
   "outputs": [],
   "source": []
  },
  {
   "cell_type": "markdown",
   "id": "8cbfc6b9-a71e-4665-b124-88bfd6390aef",
   "metadata": {},
   "source": [
    "### 4.3. Influence of the Discount Factor\n",
    "\n",
    "Conduct a study by varying the *discount factor* in each of the algorithms.\n",
    "\n",
    "<u>Questions</u> (**1 point**):\n",
    "- Run the algorithms with *discount factor* = 0.1, 0.5, 0.9 and the rest of the parameters the same as in previous exercises. \n",
    "- Describe the changes in the optimal policy, comparing the result obtained with the result of previous exercises (*discount factor* = 1)."
   ]
  },
  {
   "cell_type": "code",
   "execution_count": null,
   "id": "a09e716e-5234-4e16-8a74-febda9a0b0a3",
   "metadata": {},
   "outputs": [],
   "source": []
  },
  {
   "cell_type": "markdown",
   "id": "e9afe8b5-8a12-4c1d-a9ab-75da38fe5aee",
   "metadata": {},
   "source": [
    "### 4.4. Influence of the Learning Rate\n",
    "\n",
    "Conduct a study by varying the learning rate in the *SARSA* algorithm.\n",
    "\n",
    "<u>Questions</u> (**1 point**):\n",
    "- Run the *SARSA* algorithm with the following *learning rate* values: 0.001, 0.01, 0.1, and 0.9.\n",
    "- Analyze the differences with the results obtained previously in terms of the number of errors relative to the optimal policy and the accumulated reward for every 100,000 episodes played."
   ]
  },
  {
   "cell_type": "code",
   "execution_count": null,
   "id": "1408beff-0204-42a2-b50f-6c380f24c8d7",
   "metadata": {},
   "outputs": [],
   "source": []
  }
 ],
 "metadata": {
  "kernelspec": {
   "display_name": "Python 3",
   "language": "python",
   "name": "python3"
  },
  "language_info": {
   "codemirror_mode": {
    "name": "ipython",
    "version": 3
   },
   "file_extension": ".py",
   "mimetype": "text/x-python",
   "name": "python",
   "nbconvert_exporter": "python",
   "pygments_lexer": "ipython3",
   "version": "3.10.12"
  }
 },
 "nbformat": 4,
 "nbformat_minor": 5
}
